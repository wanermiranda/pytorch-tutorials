{
 "cells": [
  {
   "cell_type": "markdown",
   "source": [
    "## Quick start with some modifications"
   ],
   "metadata": {}
  },
  {
   "cell_type": "code",
   "execution_count": 1,
   "source": [
    "import matplotlib.pyplot as plt \n",
    "import sys \n",
    "sys.path.append('../')"
   ],
   "outputs": [],
   "metadata": {}
  },
  {
   "cell_type": "code",
   "execution_count": 2,
   "source": [
    "from wompth.models.base import NeuralNetwork"
   ],
   "outputs": [],
   "metadata": {}
  },
  {
   "cell_type": "code",
   "execution_count": 3,
   "source": [
    "from torch.utils.data import DataLoader\n",
    "from torchvision import datasets\n",
    "from torchvision.transforms.transforms import ToTensor"
   ],
   "outputs": [],
   "metadata": {}
  },
  {
   "cell_type": "code",
   "execution_count": 4,
   "source": [
    "training_data = datasets.FashionMNIST(\n",
    "    root=\"data\",\n",
    "    train=True,\n",
    "    download=True,\n",
    "    transform=ToTensor(),\n",
    ")\n",
    "train_loader =  DataLoader(training_data, batch_size=64)"
   ],
   "outputs": [
    {
     "output_type": "stream",
     "name": "stderr",
     "text": [
      "/home/gorigan/anaconda3/envs/pytorch/lib/python3.8/site-packages/torchvision/datasets/mnist.py:498: UserWarning: The given NumPy array is not writeable, and PyTorch does not support non-writeable tensors. This means you can write to the underlying (supposedly non-writeable) NumPy array using the tensor. You may want to copy the array to protect its data or make it writeable before converting it to a tensor. This type of warning will be suppressed for the rest of this program. (Triggered internally at  /pytorch/torch/csrc/utils/tensor_numpy.cpp:180.)\n",
      "  return torch.from_numpy(parsed.astype(m[2], copy=False)).view(*s)\n"
     ]
    }
   ],
   "metadata": {}
  },
  {
   "cell_type": "code",
   "execution_count": 5,
   "source": [
    "test_data = datasets.FashionMNIST(\n",
    "        root=\"data\",\n",
    "        train=False,\n",
    "        download=True,\n",
    "        transform=ToTensor(),\n",
    "    )\n",
    "test_loader = DataLoader(test_data, batch_size=64)"
   ],
   "outputs": [],
   "metadata": {}
  },
  {
   "cell_type": "code",
   "execution_count": 6,
   "source": [
    "classes = [\n",
    "        \"T-shirt/top\",\n",
    "        \"Trouser\",\n",
    "        \"Pullover\",\n",
    "        \"Dress\",\n",
    "        \"Coat\",\n",
    "        \"Sandal\",\n",
    "        \"Shirt\",\n",
    "        \"Sneaker\",\n",
    "        \"Bag\",\n",
    "        \"Ankle boot\",\n",
    "    ]\n",
    "\n",
    "nn = NeuralNetwork(layout=[28 * 28, 256, 256, 10], class_labels=classes)"
   ],
   "outputs": [
    {
     "output_type": "stream",
     "name": "stdout",
     "text": [
      "Using cuda device\n"
     ]
    }
   ],
   "metadata": {}
  },
  {
   "cell_type": "code",
   "execution_count": 7,
   "source": [
    "nn.fit(\n",
    "        train_loader=train_loader, test_loader=test_loader, epochs=10\n",
    "    )\n"
   ],
   "outputs": [
    {
     "output_type": "stream",
     "name": "stdout",
     "text": [
      "Epoch 1\n",
      "-------------------------------\n",
      "loss: 2.299021  [    0/60000]\n",
      "loss: 2.294440  [ 6400/60000]\n",
      "loss: 2.284684  [12800/60000]\n",
      "loss: 2.278849  [19200/60000]\n",
      "loss: 2.264989  [25600/60000]\n",
      "loss: 2.239579  [32000/60000]\n",
      "loss: 2.249160  [38400/60000]\n",
      "loss: 2.224037  [44800/60000]\n",
      "loss: 2.228089  [51200/60000]\n",
      "loss: 2.200226  [57600/60000]\n",
      "Test Error: \n",
      " Accuracy: 34.3%, Avg loss: 2.196127 \n",
      "\n",
      "Epoch 2\n",
      "-------------------------------\n",
      "loss: 2.202736  [    0/60000]\n",
      "loss: 2.197536  [ 6400/60000]\n",
      "loss: 2.157928  [12800/60000]\n",
      "loss: 2.165621  [19200/60000]\n",
      "loss: 2.121878  [25600/60000]\n",
      "loss: 2.069984  [32000/60000]\n",
      "loss: 2.101666  [38400/60000]\n",
      "loss: 2.037083  [44800/60000]\n",
      "loss: 2.052236  [51200/60000]\n",
      "loss: 1.981477  [57600/60000]\n",
      "Test Error: \n",
      " Accuracy: 48.4%, Avg loss: 1.980604 \n",
      "\n",
      "Epoch 3\n",
      "-------------------------------\n",
      "loss: 2.011905  [    0/60000]\n",
      "loss: 1.987886  [ 6400/60000]\n",
      "loss: 1.893296  [12800/60000]\n",
      "loss: 1.916422  [19200/60000]\n",
      "loss: 1.820517  [25600/60000]\n",
      "loss: 1.763037  [32000/60000]\n",
      "loss: 1.798544  [38400/60000]\n",
      "loss: 1.699887  [44800/60000]\n",
      "loss: 1.728219  [51200/60000]\n",
      "loss: 1.626514  [57600/60000]\n",
      "Test Error: \n",
      " Accuracy: 57.0%, Avg loss: 1.635731 \n",
      "\n",
      "Epoch 4\n",
      "-------------------------------\n",
      "loss: 1.699464  [    0/60000]\n",
      "loss: 1.662112  [ 6400/60000]\n",
      "loss: 1.527321  [12800/60000]\n",
      "loss: 1.574444  [19200/60000]\n",
      "loss: 1.464326  [25600/60000]\n",
      "loss: 1.446914  [32000/60000]\n",
      "loss: 1.467380  [38400/60000]\n",
      "loss: 1.389059  [44800/60000]\n",
      "loss: 1.421502  [51200/60000]\n",
      "loss: 1.323184  [57600/60000]\n",
      "Test Error: \n",
      " Accuracy: 61.6%, Avg loss: 1.346662 \n",
      "\n",
      "Epoch 5\n",
      "-------------------------------\n",
      "loss: 1.427258  [    0/60000]\n",
      "loss: 1.402515  [ 6400/60000]\n",
      "loss: 1.251648  [12800/60000]\n",
      "loss: 1.324586  [19200/60000]\n",
      "loss: 1.211365  [25600/60000]\n",
      "loss: 1.227229  [32000/60000]\n",
      "loss: 1.249501  [38400/60000]\n",
      "loss: 1.187681  [44800/60000]\n",
      "loss: 1.223642  [51200/60000]\n",
      "loss: 1.139662  [57600/60000]\n",
      "Test Error: \n",
      " Accuracy: 63.7%, Avg loss: 1.160355 \n",
      "\n",
      "Epoch 6\n",
      "-------------------------------\n",
      "loss: 1.241873  [    0/60000]\n",
      "loss: 1.232584  [ 6400/60000]\n",
      "loss: 1.065616  [12800/60000]\n",
      "loss: 1.166476  [19200/60000]\n",
      "loss: 1.045788  [25600/60000]\n",
      "loss: 1.075529  [32000/60000]\n",
      "loss: 1.112317  [38400/60000]\n",
      "loss: 1.055458  [44800/60000]\n",
      "loss: 1.092169  [51200/60000]\n",
      "loss: 1.023734  [57600/60000]\n",
      "Test Error: \n",
      " Accuracy: 65.2%, Avg loss: 1.037269 \n",
      "\n",
      "Epoch 7\n",
      "-------------------------------\n",
      "loss: 1.110658  [    0/60000]\n",
      "loss: 1.120502  [ 6400/60000]\n",
      "loss: 0.934199  [12800/60000]\n",
      "loss: 1.060344  [19200/60000]\n",
      "loss: 0.938696  [25600/60000]\n",
      "loss: 0.967163  [32000/60000]\n",
      "loss: 1.021581  [38400/60000]\n",
      "loss: 0.965734  [44800/60000]\n",
      "loss: 0.999439  [51200/60000]\n",
      "loss: 0.945918  [57600/60000]\n",
      "Test Error: \n",
      " Accuracy: 66.4%, Avg loss: 0.952506 \n",
      "\n",
      "Epoch 8\n",
      "-------------------------------\n",
      "loss: 1.012572  [    0/60000]\n",
      "loss: 1.042587  [ 6400/60000]\n",
      "loss: 0.838605  [12800/60000]\n",
      "loss: 0.985316  [19200/60000]\n",
      "loss: 0.867548  [25600/60000]\n",
      "loss: 0.887115  [32000/60000]\n",
      "loss: 0.957854  [38400/60000]\n",
      "loss: 0.903514  [44800/60000]\n",
      "loss: 0.931073  [51200/60000]\n",
      "loss: 0.890273  [57600/60000]\n",
      "Test Error: \n",
      " Accuracy: 67.5%, Avg loss: 0.891180 \n",
      "\n",
      "Epoch 9\n",
      "-------------------------------\n",
      "loss: 0.936157  [    0/60000]\n",
      "loss: 0.984197  [ 6400/60000]\n",
      "loss: 0.766501  [12800/60000]\n",
      "loss: 0.929488  [19200/60000]\n",
      "loss: 0.817875  [25600/60000]\n",
      "loss: 0.826620  [32000/60000]\n",
      "loss: 0.910169  [38400/60000]\n",
      "loss: 0.859373  [44800/60000]\n",
      "loss: 0.879790  [51200/60000]\n",
      "loss: 0.848438  [57600/60000]\n",
      "Test Error: \n",
      " Accuracy: 69.0%, Avg loss: 0.844975 \n",
      "\n",
      "Epoch 10\n",
      "-------------------------------\n",
      "loss: 0.875109  [    0/60000]\n",
      "loss: 0.937743  [ 6400/60000]\n",
      "loss: 0.710646  [12800/60000]\n",
      "loss: 0.886587  [19200/60000]\n",
      "loss: 0.781275  [25600/60000]\n",
      "loss: 0.780467  [32000/60000]\n",
      "loss: 0.872519  [38400/60000]\n",
      "loss: 0.826956  [44800/60000]\n",
      "loss: 0.840251  [51200/60000]\n",
      "loss: 0.815367  [57600/60000]\n",
      "Test Error: \n",
      " Accuracy: 70.3%, Avg loss: 0.808904 \n",
      "\n",
      "Done!\n"
     ]
    }
   ],
   "metadata": {}
  },
  {
   "cell_type": "code",
   "execution_count": 8,
   "source": [
    "result = nn.predict(test_loader)"
   ],
   "outputs": [],
   "metadata": {}
  },
  {
   "cell_type": "code",
   "execution_count": 21,
   "source": [
    "figure, axes = plt.subplots(nrows=3, ncols=3)\n",
    "\n",
    "i = 0\n",
    "for row in axes: \n",
    "    for col in row:\n",
    "        y = test_loader.dataset[i][1]\n",
    "        X = test_loader.dataset[i][0]\n",
    "        plt.subplot(330 + (i+1)).set_title(f'guess={result[i]}')\n",
    "        plt.imshow(X[0], cmap=plt.get_cmap('gray'))\n",
    "        i += 1"
   ],
   "outputs": [
    {
     "output_type": "display_data",
     "data": {
      "image/png": "[encoded data removed]",
      "text/plain": [
       "<Figure size 432x288 with 9 Axes>"
      ]
     },
     "metadata": {
      "needs_background": "light"
     }
    }
   ],
   "metadata": {}
  },
  {
   "cell_type": "code",
   "execution_count": null,
   "source": [],
   "outputs": [],
   "metadata": {}
  }
 ],
 "metadata": {
  "orig_nbformat": 4,
  "language_info": {
   "name": "python",
   "version": "3.8.11",
   "mimetype": "text/x-python",
   "codemirror_mode": {
    "name": "ipython",
    "version": 3
   },
   "pygments_lexer": "ipython3",
   "nbconvert_exporter": "python",
   "file_extension": ".py"
  },
  "kernelspec": {
   "name": "python3",
   "display_name": "Python 3.8.11 64-bit ('pytorch': conda)"
  },
  "interpreter": {
   "hash": "53cca62b7b1eaa2534c115ddecdcdc42b72027f7274be5275564e633baede262"
  }
 },
 "nbformat": 4,
 "nbformat_minor": 2
}